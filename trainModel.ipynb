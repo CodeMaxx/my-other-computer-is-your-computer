{
 "cells": [
  {
   "cell_type": "code",
   "execution_count": 1,
   "metadata": {},
   "outputs": [],
   "source": [
    "import pandas as pd \n",
    "import numpy as np\n",
    "import csv\n",
    "from matplotlib import pyplot as plt\n",
    "from sklearn import datasets\n",
    "from sklearn import linear_model\n",
    "from sklearn.preprocessing import MinMaxScaler\n",
    "from sklearn.svm import SVC\n",
    "from sklearn.neighbors import KNeighborsClassifier\n",
    "from sklearn.ensemble import RandomForestClassifier\n",
    "from sklearn.ensemble import GradientBoostingClassifier\n",
    "import pickle\n",
    "from sklearn.metrics import accuracy_score"
   ]
  },
  {
   "cell_type": "code",
   "execution_count": 3,
   "metadata": {},
   "outputs": [],
   "source": [
    "def scaler(train_data_):\n",
    "    scaler = MinMaxScaler()\n",
    "    scaled_train_data_ = scaler.fit_transform(train_data_)\n",
    "    return scaled_train_data_"
   ]
  },
  {
   "cell_type": "code",
   "execution_count": 5,
   "metadata": {},
   "outputs": [],
   "source": [
    "def linearClassifier(train_data_points,train_data_labels):\n",
    "    \n",
    "    penalty = 'l2'\n",
    "    solver = 'newton-cg'\n",
    "    multi_class = 'ovr'\n",
    "    clf = linear_model.LogisticRegression(penalty=penalty,C=c,solver=solver,multi_class=multi_class)\n",
    "    clf.fit(train_data_points,train_data_labels)\n",
    "    return clf\n",
    "        "
   ]
  },
  {
   "cell_type": "code",
   "execution_count": null,
   "metadata": {},
   "outputs": [],
   "source": [
    "# def checkAccuracy(model, validate_data_points_, validate_data_labels_):\n",
    "#     predicted_data_labels_ = model.predict(validate_data_points_)\n",
    "#     accuracy = accuracy_score(predicted_data_labels_,validate_data_labels_)\n",
    "#     return accuracy"
   ]
  },
  {
   "cell_type": "code",
   "execution_count": null,
   "metadata": {},
   "outputs": [],
   "source": [
    "train_data_points_,train_data_labels_ = get_train_data()\n",
    "# validate_data_points_,validate_data_labels_ = get_test_data()\n",
    "train_data_points = scaler(train_data_points)\n",
    "model = linearClassifier(train_data_points_,train_data_labels_)\n",
    "accuracy = checkAccuracy(model, validate_data_points_, validate_data_labels)\n",
    "print(accuracy)"
   ]
  }
 ],
 "metadata": {
  "kernelspec": {
   "display_name": "Python 3",
   "language": "python",
   "name": "python3"
  },
  "language_info": {
   "codemirror_mode": {
    "name": "ipython",
    "version": 3
   },
   "file_extension": ".py",
   "mimetype": "text/x-python",
   "name": "python",
   "nbconvert_exporter": "python",
   "pygments_lexer": "ipython3",
   "version": "3.5.1"
  }
 },
 "nbformat": 4,
 "nbformat_minor": 2
}
