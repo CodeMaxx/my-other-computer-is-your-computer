{
 "cells": [
  {
   "cell_type": "code",
   "execution_count": 1,
   "metadata": {},
   "outputs": [],
   "source": [
    "from pyparsing import Word, hexnums, WordEnd, Optional, alphas, alphanums\n",
    "from collections import defaultdict"
   ]
  },
  {
   "cell_type": "code",
   "execution_count": 3,
   "metadata": {},
   "outputs": [],
   "source": [
    "hex_integer = Word(hexnums) + WordEnd() # use WordEnd to avoid parsing leading a-f of non-hex numbers as a hex\n",
    "line = \".text:\" + hex_integer + Optional((hex_integer*(1,))(\"instructions\") + Word(alphas,alphanums)(\"opcode\"))\n",
    "\n",
    "frequency = defaultdict(int)"
   ]
  },
  {
   "cell_type": "code",
   "execution_count": 12,
   "metadata": {},
   "outputs": [],
   "source": [
    "with open(\"0A32eTdBKayjCWhZqDOQ.asm\", 'r', encoding='Latin-1') as file:\n",
    "    for source_line in file:\n",
    "#         print(source_line[:5])\n",
    "#         break\n",
    "        if(source_line[:5]!='.text'):\n",
    "            break\n",
    "        result = line.parseString(source_line)\n",
    "        if \"opcode\" in result:\n",
    "            frequency[result.opcode] += 1\n"
   ]
  },
  {
   "cell_type": "code",
   "execution_count": 13,
   "metadata": {},
   "outputs": [
    {
     "name": "stdout",
     "output_type": "stream",
     "text": [
      "defaultdict(<class 'int'>, {'jnb': 123, 'fld1': 3, 'edx': 132, 'mul': 15, 'jle': 27, 'not': 75, 'wait': 15, 'cdq': 87, 'jg': 48, 'imul': 30, 'jge': 84, 'inc': 462, 'offset': 237, 'stosd': 81, 'shl': 252, 'push': 2913, 'fnclex': 3, 'xor': 1236, 'esp': 246, 'mov': 5769, 'ja': 30, 'lea': 1101, 'jns': 120, 'movsd': 63, 'ebx': 15, 'fnstsw': 3, 'call': 1233, 'cmp': 1449, 'align': 219, 'movsx': 9, 'leave': 75, 'jbe': 45, 'dword': 39, 'stmxcsr': 12, 'jb': 225, 'esi': 96, 'shr': 123, 'setnz': 6, 'jz': 1239, 'fldz': 3, 'fstcw': 3, 'ecx': 75, 'sub': 849, 'eax': 159, 'div': 15, 'fdivrp': 3, 'fldcw': 3, 'setnle': 465, 'ldmxcsr': 6, 'retn': 897, 'movzx': 984, 'CC': 294, 'and': 696, 'or': 540, 'sbb': 27, 'pop': 1413, 'fldpi': 3, 'jl': 153, 'rep': 27, 'jmp': 1032, 'fistp': 3, 'byte': 6, 'edi': 39, 'fstsw': 9, 'test': 1494, 'fld': 9, 'nop': 3, 'sar': 96, 'setz': 12, 'jnz': 954, 'neg': 36, 'fstp': 12})\n"
     ]
    }
   ],
   "source": [
    "print(frequency)"
   ]
  },
  {
   "cell_type": "code",
   "execution_count": null,
   "metadata": {},
   "outputs": [],
   "source": []
  }
 ],
 "metadata": {
  "kernelspec": {
   "display_name": "Python 3",
   "language": "python",
   "name": "python3"
  },
  "language_info": {
   "codemirror_mode": {
    "name": "ipython",
    "version": 3
   },
   "file_extension": ".py",
   "mimetype": "text/x-python",
   "name": "python",
   "nbconvert_exporter": "python",
   "pygments_lexer": "ipython3",
   "version": "3.5.1"
  }
 },
 "nbformat": 4,
 "nbformat_minor": 2
}
